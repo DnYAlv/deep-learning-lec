{
  "cells": [
    {
      "cell_type": "markdown",
      "metadata": {
        "id": "56R0VozbyfPf"
      },
      "source": [
        "# 1.&nbsp; Image Classification with Transfer Learning"
      ]
    },
    {
      "cell_type": "markdown",
      "metadata": {
        "id": "b3VGCJ49G1Dv"
      },
      "source": [
        "The subject of image classification has been studied in depth, and many famous models, like the AlexNet and VGG models we saw earlier, are readily available through PyTorch. However, these models have been trained with the ImageNet dataset. Although ImageNet contains 1,000 different image classes, it may not contain the classes that you need to solve your image classification problem.\n",
        "\n",
        "In this case, you can apply transfer learning, a process in which we fine-tune pretrained models with a much smaller dataset of new images. For our next example, we will train a model to classify images of bees and ants—classes not contained in ImageNet. Bees and ants look very similar and can be difficult to distinguish.\n",
        "\n",
        "To train our new classifier, we will fine-tune another famous model, called ResNet18, by loading the pretrained model and training it with 120 new training images of bees and ants— a much smaller set compared to the millions of images in ImageNet."
      ]
    },
    {
      "cell_type": "markdown",
      "metadata": {
        "id": "dOiwoHSEHNy9"
      },
      "source": [
        "##  1.1&nbsp; Data Preprocessing"
      ]
    },
    {
      "cell_type": "markdown",
      "metadata": {
        "id": "a8PVxWoCHSPx"
      },
      "source": [
        "Let’s begin by loading our data, defining our transforms, and\n",
        "configuring our dataloaders for batch sampling. As we did earlier,\n",
        "we’ll leverage functions from the Torchvision library for\n",
        "creating the datasets, loading the data, and applying the data\n",
        "transforms."
      ]
    },
    {
      "cell_type": "code",
      "execution_count": null,
      "metadata": {
        "id": "ucVb0KeFHVoE"
      },
      "outputs": [],
      "source": [
        "import torch\n",
        "import torch.nn as nn\n",
        "import torch.optim as optim\n",
        "import numpy as np\n",
        "import torchvision\n",
        "from torchvision import datasets, models\n",
        "from torchvision import transforms"
      ]
    },
    {
      "cell_type": "markdown",
      "metadata": {
        "id": "aqCnCbi9I2ry"
      },
      "source": [
        "Then we’ll download the data that we’ll use for training and\n",
        "validation:"
      ]
    },
    {
      "cell_type": "code",
      "execution_count": null,
      "metadata": {
        "id": "cD-Ax1-iI3Qi"
      },
      "outputs": [],
      "source": [
        "from io import BytesIO\n",
        "from urllib.request import urlopen\n",
        "from zipfile import ZipFile\n",
        "zipurl = 'https://pytorch.tips/bee-zip'\n",
        "with urlopen(zipurl) as zipresp:\n",
        "  with ZipFile(BytesIO(zipresp.read())) as zfile:\n",
        "    zfile.extractall('./data')"
      ]
    },
    {
      "cell_type": "markdown",
      "metadata": {
        "id": "vS3dh50iJD3_"
      },
      "source": [
        "Here, we use the io, urlib, and zipfile libraries to download\n",
        "and unzip a file to our local filesystem. After running the\n",
        "previous code, you should have your training and validation\n",
        "images in your local data/ folder. They are located in\n",
        "data/hymenoptera_data/train and data/hymenoptera_data/val,\n",
        "respectively"
      ]
    },
    {
      "cell_type": "markdown",
      "metadata": {
        "id": "Er6p8MKpJEpO"
      },
      "source": [
        "Next let’s define our transforms, load the data, and configure\n",
        "our batch samplers."
      ]
    },
    {
      "cell_type": "code",
      "execution_count": null,
      "metadata": {
        "id": "JRUqvstwJIct"
      },
      "outputs": [],
      "source": [
        "#Data Augmentasi dan Data Transformasi\n",
        "train_transforms = transforms.Compose([\n",
        "    transforms.RandomResizedCrop(224),\n",
        "    transforms.RandomHorizontalFlip(),\n",
        "    transforms.ToTensor(),\n",
        "    transforms.Normalize(\n",
        "        [0.5, 0.5,0.5],\n",
        "        [0.5, 0.5,0.5])])\n",
        "val_transforms = transforms.Compose([\n",
        "    transforms.Resize(256),\n",
        "    transforms.CenterCrop(224),\n",
        "    transforms.ToTensor(),\n",
        "    transforms.Normalize(\n",
        "        [0.485, 0.456, 0.406],\n",
        "        [0.229, 0.224, 0.225])])"
      ]
    },
    {
      "cell_type": "markdown",
      "metadata": {
        "id": "Lvm7203rJbEr"
      },
      "source": [
        "Notice that we randomly resize, crop, and flip images for training\n",
        "but not for validation. The “magic” numbers used in the\n",
        "Normalize transforms are precomputed values for the means\n",
        "and standard deviations."
      ]
    },
    {
      "cell_type": "code",
      "execution_count": null,
      "metadata": {
        "id": "wg3OzCLXJcFp"
      },
      "outputs": [],
      "source": [
        "train_dataset = datasets.ImageFolder(\n",
        "    root='data/hymenoptera_data/train',\n",
        "    transform=train_transforms)\n",
        "\n",
        "val_dataset = datasets.ImageFolder(\n",
        "    root='data/hymenoptera_data/val',\n",
        "    transform=val_transforms)"
      ]
    },
    {
      "cell_type": "markdown",
      "metadata": {
        "id": "mrx7hFC-Jicu"
      },
      "source": [
        "In the previous code we used the ImageFolder dataset to pull\n",
        "images from our data folders and set the transforms to the ones\n",
        "we defined earlier. Next, we define our dataloaders for batch\n",
        "iteration:"
      ]
    },
    {
      "cell_type": "code",
      "execution_count": null,
      "metadata": {
        "id": "D4CJv74DJl27"
      },
      "outputs": [],
      "source": [
        "train_loader = torch.utils.data.DataLoader(\n",
        "    train_dataset,\n",
        "    batch_size=16,\n",
        "    shuffle=True,\n",
        "    num_workers=0)\n",
        "\n",
        "val_loader = torch.utils.data.DataLoader(\n",
        "    val_dataset,\n",
        "    batch_size=16,\n",
        "    shuffle=False,\n",
        "    num_workers=0)"
      ]
    },
    {
      "cell_type": "markdown",
      "metadata": {
        "id": "Tne4uqrfKRMj"
      },
      "source": [
        "##  1.2&nbsp; Model Design"
      ]
    },
    {
      "cell_type": "markdown",
      "metadata": {
        "id": "iLjkJs9LKWZj"
      },
      "source": [
        "For this example we’ll use a ResNet18 model that has been pretrained\n",
        "with ImageNet data. However, ResNet18 is designed to\n",
        "detect 1,000 classes, and in our case, we only need 2 classes—\n",
        "bees and ants. We can modify the final layer to detect 2 classes\n",
        "instead of 1,000 as shown in the following code:"
      ]
    },
    {
      "cell_type": "code",
      "execution_count": null,
      "metadata": {
        "colab": {
          "base_uri": "https://localhost:8080/",
          "height": 194,
          "referenced_widgets": [
            "895e8846af9a495385f6381bcbead57f",
            "dab910fd93ce4d3c897bc44a354c309f",
            "b887d20b74404ac0a4e2d3c2fa94efd5",
            "3f7925ce096b4f38b6b4bb947d9851df",
            "130879b94872431db2ed2e32a0909f84",
            "ec573abab3ae4feab8f54d0fd623e118",
            "19062e5a8ba94cfa9dae268eded073ec",
            "1b4ad5cf47b74f25a732338e8268f2bd",
            "5ab07e60f12a45e680d978fe7c0b198d",
            "7469474b4c3c472b87a890e821a8d86f",
            "bf93129acd6d4aee857cdad9e42f8977"
          ]
        },
        "id": "SWsNGEKuJlxS",
        "outputId": "9124aa25-e5b0-4837-bbf7-eee0645102df"
      },
      "outputs": [
        {
          "output_type": "stream",
          "name": "stderr",
          "text": [
            "/usr/local/lib/python3.7/dist-packages/torchvision/models/_utils.py:209: UserWarning: The parameter 'pretrained' is deprecated since 0.13 and will be removed in 0.15, please use 'weights' instead.\n",
            "  f\"The parameter '{pretrained_param}' is deprecated since 0.13 and will be removed in 0.15, \"\n",
            "/usr/local/lib/python3.7/dist-packages/torchvision/models/_utils.py:223: UserWarning: Arguments other than a weight enum or `None` for 'weights' are deprecated since 0.13 and will be removed in 0.15. The current behavior is equivalent to passing `weights=ResNet18_Weights.IMAGENET1K_V1`. You can also use `weights=ResNet18_Weights.DEFAULT` to get the most up-to-date weights.\n",
            "  warnings.warn(msg)\n",
            "Downloading: \"https://download.pytorch.org/models/resnet18-f37072fd.pth\" to /root/.cache/torch/hub/checkpoints/resnet18-f37072fd.pth\n"
          ]
        },
        {
          "output_type": "display_data",
          "data": {
            "text/plain": [
              "  0%|          | 0.00/44.7M [00:00<?, ?B/s]"
            ],
            "application/vnd.jupyter.widget-view+json": {
              "version_major": 2,
              "version_minor": 0,
              "model_id": "895e8846af9a495385f6381bcbead57f"
            }
          },
          "metadata": {}
        },
        {
          "output_type": "stream",
          "name": "stdout",
          "text": [
            "Linear(in_features=512, out_features=1000, bias=True)\n",
            "Linear(in_features=512, out_features=2, bias=True)\n"
          ]
        }
      ],
      "source": [
        "model = models.resnet18(pretrained=True)\n",
        "print(model.fc)\n",
        "# out:\n",
        "# Linear(in_features=512, out_features=1000, bias=True)\n",
        "num_ftrs = model.fc.in_features\n",
        "#proses fully connected\n",
        "model.fc = nn.Linear(num_ftrs, 2)\n",
        "print(model.fc)\n",
        "# out:\n",
        "# Linear(in_features=512, out_features=2, bias=True)"
      ]
    },
    {
      "cell_type": "markdown",
      "metadata": {
        "id": "t5LGMIBQKg7z"
      },
      "source": [
        "We first load a pretrained ResNet18 model using the function\n",
        "torchvision.models.resnet18(). Next, we read the number of\n",
        "features before the final layer with model.fc.in_features. Then\n",
        "we change the final layer by directly setting model.fc to a fully\n",
        "connected layer with two outputs.\n",
        "\n",
        "We are going to use the pretrained model as a starting point\n",
        "and fine-tune its parameters with new data. Since we replaced\n",
        "the final linear layer, its parameters are now randomly\n",
        "initialized.\n",
        "\n",
        "Now we have a ResNet18 model with all weights pretrained\n",
        "with ImageNet images except for the last layer. Next, we need\n",
        "to train our model with images of bees and ants."
      ]
    },
    {
      "cell_type": "markdown",
      "metadata": {
        "id": "4sEZc3mVKsA2"
      },
      "source": [
        "##  1.3&nbsp; Training and Validation"
      ]
    },
    {
      "cell_type": "markdown",
      "metadata": {
        "id": "0myK4lffKv3H"
      },
      "source": [
        "Before we fine-tune our model, let’s configure our training with\n",
        "the following code:"
      ]
    },
    {
      "cell_type": "code",
      "execution_count": null,
      "metadata": {
        "id": "YFck0tNsKyqn"
      },
      "outputs": [],
      "source": [
        "from torch.optim.lr_scheduler import StepLR\n",
        "device = torch.device(\"cuda:0\" if torch.cuda.is_available() else \"cpu\") #kita akan menggunakan GPU\n",
        "model = model.to(device)#Move the model to a GPU if available\n",
        "criterion = nn.CrossEntropyLoss() # Define our loss function\n",
        "optimizer = optim.SGD(model.parameters(),lr=0.001,momentum =0.9) #Define our optimizer algorithm\n",
        "exp_lr_scheduler = StepLR(optimizer,step_size=7,gamma=0.1)"
      ]
    },
    {
      "cell_type": "markdown",
      "metadata": {
        "id": "2GmwC5mWLZAc"
      },
      "source": [
        "The code should look familiar, with the exception of the learning\n",
        "rate scheduler. Here we will use a scheduler from PyTorch\n",
        "to adjust the learning rate of our SGD optimizer after several\n",
        "epochs. Using a learning rate scheduler will help our NN adjust\n",
        "its weights more precisely as training goes on.\n",
        "\n"
      ]
    },
    {
      "cell_type": "code",
      "execution_count": null,
      "metadata": {
        "colab": {
          "base_uri": "https://localhost:8080/"
        },
        "id": "uprd9L2LLcZA",
        "outputId": "151b1627-8ce9-4379-d16c-191c7f865d89"
      },
      "outputs": [
        {
          "output_type": "stream",
          "name": "stdout",
          "text": [
            "Epoch :  0\n",
            "Train: Loss: 0.0265 Acc: 0.5651 Val: Loss: 0.0318 Acc: 0.8354\n",
            "Epoch :  1\n",
            "Train: Loss: 0.0325 Acc: 0.5495 Val: Loss: 0.0318 Acc: 0.8292\n",
            "Epoch :  2\n",
            "Train: Loss: 0.0282 Acc: 0.5573 Val: Loss: 0.0322 Acc: 0.8167\n",
            "Epoch :  3\n",
            "Train: Loss: 0.0272 Acc: 0.5573 Val: Loss: 0.0328 Acc: 0.8167\n",
            "Epoch :  4\n",
            "Train: Loss: 0.0279 Acc: 0.5612 Val: Loss: 0.0332 Acc: 0.8229\n"
          ]
        }
      ],
      "source": [
        "num_epochs =5\n",
        "\n",
        "for epochs in range(num_epochs):\n",
        "  print(\"Epoch : \", epochs)\n",
        "  model.train() #training loop\n",
        "  running_loss = 0.0\n",
        "  running_corrects = 0\n",
        "  for inputs, labels in train_loader:\n",
        "    inputs = inputs.to(device)\n",
        "    labels = labels.to(device)\n",
        "\n",
        "    optimizer.zero_grad()\n",
        "    outputs = model(inputs)\n",
        "    _, preds = torch.max(outputs,1)\n",
        "    loss = criterion(outputs, labels)\n",
        "    loss.backward()\n",
        "    optimizer.step()\n",
        "    running_loss += loss.item()/inputs.size(0)\n",
        "    running_corrects += torch.sum(preds == labels.data)/inputs.size(0)\n",
        "\n",
        "    exp_lr_scheduler.step() #schedule the learning rate for next the epoch of training\n",
        "    train_epoch_loss = running_loss / len(train_loader)\n",
        "    train_epoch_acc = running_corrects / len(train_loader)\n",
        "\n",
        "    model.eval() #validation loop\n",
        "    \n",
        "    running_loss = 0.0\n",
        "    running_corrects = 0\n",
        "    \n",
        "    for inputs, labels in val_loader:\n",
        "      inputs = inputs.to(device)\n",
        "      labels = labels.to(device)\n",
        "      outputs = model(inputs)\n",
        "      _, preds = torch.max(outputs,1)\n",
        "      loss = criterion(outputs, labels)\n",
        "      running_loss += loss.item()/inputs.size(0)\n",
        "      running_corrects +=torch.sum(preds == labels.data)/inputs.size(0)\n",
        "    \n",
        "    epoch_loss = running_loss / len(val_loader)\n",
        "    epoch_acc = running_corrects.double() / len(val_loader)\n",
        "  print(\"Train: Loss: {:.4f} Acc: {:.4f}\"\n",
        "    \" Val: Loss: {:.4f}\"\n",
        "    \" Acc: {:.4f}\".format(train_epoch_loss,train_epoch_acc,epoch_loss,epoch_acc))"
      ]
    },
    {
      "cell_type": "markdown",
      "source": [
        "##  1.4&nbsp; Testing and Development\n",
        "\n",
        "Let’s test our model and deploy it by saving the model to a file.\n",
        "To test our model, we’ll display a batch of images and show\n",
        "how our model classified them,"
      ],
      "metadata": {
        "id": "8Wslr7EWVGDv"
      }
    },
    {
      "cell_type": "code",
      "source": [
        "import matplotlib.pyplot as plt\n",
        "def imshow(inp, title=None): #Define a new function to plot images from our tensor images.\n",
        "  inp = inp.numpy().transpose((1, 2, 0)) #Switch from C × H × W to H × W × C image formats for plotting.\n",
        "  mean = np.array([0.485, 0.456, 0.406]) \n",
        "  std = np.array([0.229, 0.224, 0.225])\n",
        "  inp = std * inp + mean #Undo the normalization we do during transforms so we can properly view images.\n",
        "  inp = np.clip(inp, 0, 1) \n",
        "  plt.imshow(inp)\n",
        "  if title is not None:\n",
        "    plt.title(title)\n",
        "\n",
        "\n",
        "inputs, classes = next(iter(val_loader)) #Grab a batch of images from our validation dataset.\n",
        "out = torchvision.utils.make_grid(inputs) \n",
        "class_names = val_dataset.classes\n",
        "\n",
        "outputs = model(inputs.to(device)) #Perform classification using our fine-tuned ResNet18.\n",
        "_, preds = torch.max(outputs,1) #Take the “winning” class.\n",
        "\n",
        "imshow(out, title=[class_names[x] for x in preds]) #Display the input images and their predicted classes"
      ],
      "metadata": {
        "colab": {
          "base_uri": "https://localhost:8080/",
          "height": 148
        },
        "id": "-hvq4PRhVXkY",
        "outputId": "894d0d49-3be9-4c38-983c-9b65f96426d7"
      },
      "execution_count": null,
      "outputs": [
        {
          "output_type": "display_data",
          "data": {
            "text/plain": [
              "<Figure size 432x288 with 1 Axes>"
            ],
            "image/png": "[encoded data removed]"
          },
          "metadata": {
            "needs_background": "light"
          }
        }
      ]
    }
  ],
  "metadata": {
    "colab": {
      "collapsed_sections": [],
      "provenance": []
    },
    "gpuClass": "standard",
    "kernelspec": {
      "display_name": "Python 3",
      "name": "python3"
    },
    "language_info": {
      "name": "python"
    },
    "widgets": {
      "application/vnd.jupyter.widget-state+json": {
        "895e8846af9a495385f6381bcbead57f": {
          "model_module": "@jupyter-widgets/controls",
          "model_name": "HBoxModel",
          "model_module_version": "1.5.0",
          "state": {
            "_dom_classes": [],
            "_model_module": "@jupyter-widgets/controls",
            "_model_module_version": "1.5.0",
            "_model_name": "HBoxModel",
            "_view_count": null,
            "_view_module": "@jupyter-widgets/controls",
            "_view_module_version": "1.5.0",
            "_view_name": "HBoxView",
            "box_style": "",
            "children": [
              "IPY_MODEL_dab910fd93ce4d3c897bc44a354c309f",
              "IPY_MODEL_b887d20b74404ac0a4e2d3c2fa94efd5",
              "IPY_MODEL_3f7925ce096b4f38b6b4bb947d9851df"
            ],
            "layout": "IPY_MODEL_130879b94872431db2ed2e32a0909f84"
          }
        },
        "dab910fd93ce4d3c897bc44a354c309f": {
          "model_module": "@jupyter-widgets/controls",
          "model_name": "HTMLModel",
          "model_module_version": "1.5.0",
          "state": {
            "_dom_classes": [],
            "_model_module": "@jupyter-widgets/controls",
            "_model_module_version": "1.5.0",
            "_model_name": "HTMLModel",
            "_view_count": null,
            "_view_module": "@jupyter-widgets/controls",
            "_view_module_version": "1.5.0",
            "_view_name": "HTMLView",
            "description": "",
            "description_tooltip": null,
            "layout": "IPY_MODEL_ec573abab3ae4feab8f54d0fd623e118",
            "placeholder": "​",
            "style": "IPY_MODEL_19062e5a8ba94cfa9dae268eded073ec",
            "value": "100%"
          }
        },
        "b887d20b74404ac0a4e2d3c2fa94efd5": {
          "model_module": "@jupyter-widgets/controls",
          "model_name": "FloatProgressModel",
          "model_module_version": "1.5.0",
          "state": {
            "_dom_classes": [],
            "_model_module": "@jupyter-widgets/controls",
            "_model_module_version": "1.5.0",
            "_model_name": "FloatProgressModel",
            "_view_count": null,
            "_view_module": "@jupyter-widgets/controls",
            "_view_module_version": "1.5.0",
            "_view_name": "ProgressView",
            "bar_style": "success",
            "description": "",
            "description_tooltip": null,
            "layout": "IPY_MODEL_1b4ad5cf47b74f25a732338e8268f2bd",
            "max": 46830571,
            "min": 0,
            "orientation": "horizontal",
            "style": "IPY_MODEL_5ab07e60f12a45e680d978fe7c0b198d",
            "value": 46830571
          }
        },
        "3f7925ce096b4f38b6b4bb947d9851df": {
          "model_module": "@jupyter-widgets/controls",
          "model_name": "HTMLModel",
          "model_module_version": "1.5.0",
          "state": {
            "_dom_classes": [],
            "_model_module": "@jupyter-widgets/controls",
            "_model_module_version": "1.5.0",
            "_model_name": "HTMLModel",
            "_view_count": null,
            "_view_module": "@jupyter-widgets/controls",
            "_view_module_version": "1.5.0",
            "_view_name": "HTMLView",
            "description": "",
            "description_tooltip": null,
            "layout": "IPY_MODEL_7469474b4c3c472b87a890e821a8d86f",
            "placeholder": "​",
            "style": "IPY_MODEL_bf93129acd6d4aee857cdad9e42f8977",
            "value": " 44.7M/44.7M [00:00&lt;00:00, 169MB/s]"
          }
        },
        "130879b94872431db2ed2e32a0909f84": {
          "model_module": "@jupyter-widgets/base",
          "model_name": "LayoutModel",
          "model_module_version": "1.2.0",
          "state": {
            "_model_module": "@jupyter-widgets/base",
            "_model_module_version": "1.2.0",
            "_model_name": "LayoutModel",
            "_view_count": null,
            "_view_module": "@jupyter-widgets/base",
            "_view_module_version": "1.2.0",
            "_view_name": "LayoutView",
            "align_content": null,
            "align_items": null,
            "align_self": null,
            "border": null,
            "bottom": null,
            "display": null,
            "flex": null,
            "flex_flow": null,
            "grid_area": null,
            "grid_auto_columns": null,
            "grid_auto_flow": null,
            "grid_auto_rows": null,
            "grid_column": null,
            "grid_gap": null,
            "grid_row": null,
            "grid_template_areas": null,
            "grid_template_columns": null,
            "grid_template_rows": null,
            "height": null,
            "justify_content": null,
            "justify_items": null,
            "left": null,
            "margin": null,
            "max_height": null,
            "max_width": null,
            "min_height": null,
            "min_width": null,
            "object_fit": null,
            "object_position": null,
            "order": null,
            "overflow": null,
            "overflow_x": null,
            "overflow_y": null,
            "padding": null,
            "right": null,
            "top": null,
            "visibility": null,
            "width": null
          }
        },
        "ec573abab3ae4feab8f54d0fd623e118": {
          "model_module": "@jupyter-widgets/base",
          "model_name": "LayoutModel",
          "model_module_version": "1.2.0",
          "state": {
            "_model_module": "@jupyter-widgets/base",
            "_model_module_version": "1.2.0",
            "_model_name": "LayoutModel",
            "_view_count": null,
            "_view_module": "@jupyter-widgets/base",
            "_view_module_version": "1.2.0",
            "_view_name": "LayoutView",
            "align_content": null,
            "align_items": null,
            "align_self": null,
            "border": null,
            "bottom": null,
            "display": null,
            "flex": null,
            "flex_flow": null,
            "grid_area": null,
            "grid_auto_columns": null,
            "grid_auto_flow": null,
            "grid_auto_rows": null,
            "grid_column": null,
            "grid_gap": null,
            "grid_row": null,
            "grid_template_areas": null,
            "grid_template_columns": null,
            "grid_template_rows": null,
            "height": null,
            "justify_content": null,
            "justify_items": null,
            "left": null,
            "margin": null,
            "max_height": null,
            "max_width": null,
            "min_height": null,
            "min_width": null,
            "object_fit": null,
            "object_position": null,
            "order": null,
            "overflow": null,
            "overflow_x": null,
            "overflow_y": null,
            "padding": null,
            "right": null,
            "top": null,
            "visibility": null,
            "width": null
          }
        },
        "19062e5a8ba94cfa9dae268eded073ec": {
          "model_module": "@jupyter-widgets/controls",
          "model_name": "DescriptionStyleModel",
          "model_module_version": "1.5.0",
          "state": {
            "_model_module": "@jupyter-widgets/controls",
            "_model_module_version": "1.5.0",
            "_model_name": "DescriptionStyleModel",
            "_view_count": null,
            "_view_module": "@jupyter-widgets/base",
            "_view_module_version": "1.2.0",
            "_view_name": "StyleView",
            "description_width": ""
          }
        },
        "1b4ad5cf47b74f25a732338e8268f2bd": {
          "model_module": "@jupyter-widgets/base",
          "model_name": "LayoutModel",
          "model_module_version": "1.2.0",
          "state": {
            "_model_module": "@jupyter-widgets/base",
            "_model_module_version": "1.2.0",
            "_model_name": "LayoutModel",
            "_view_count": null,
            "_view_module": "@jupyter-widgets/base",
            "_view_module_version": "1.2.0",
            "_view_name": "LayoutView",
            "align_content": null,
            "align_items": null,
            "align_self": null,
            "border": null,
            "bottom": null,
            "display": null,
            "flex": null,
            "flex_flow": null,
            "grid_area": null,
            "grid_auto_columns": null,
            "grid_auto_flow": null,
            "grid_auto_rows": null,
            "grid_column": null,
            "grid_gap": null,
            "grid_row": null,
            "grid_template_areas": null,
            "grid_template_columns": null,
            "grid_template_rows": null,
            "height": null,
            "justify_content": null,
            "justify_items": null,
            "left": null,
            "margin": null,
            "max_height": null,
            "max_width": null,
            "min_height": null,
            "min_width": null,
            "object_fit": null,
            "object_position": null,
            "order": null,
            "overflow": null,
            "overflow_x": null,
            "overflow_y": null,
            "padding": null,
            "right": null,
            "top": null,
            "visibility": null,
            "width": null
          }
        },
        "5ab07e60f12a45e680d978fe7c0b198d": {
          "model_module": "@jupyter-widgets/controls",
          "model_name": "ProgressStyleModel",
          "model_module_version": "1.5.0",
          "state": {
            "_model_module": "@jupyter-widgets/controls",
            "_model_module_version": "1.5.0",
            "_model_name": "ProgressStyleModel",
            "_view_count": null,
            "_view_module": "@jupyter-widgets/base",
            "_view_module_version": "1.2.0",
            "_view_name": "StyleView",
            "bar_color": null,
            "description_width": ""
          }
        },
        "7469474b4c3c472b87a890e821a8d86f": {
          "model_module": "@jupyter-widgets/base",
          "model_name": "LayoutModel",
          "model_module_version": "1.2.0",
          "state": {
            "_model_module": "@jupyter-widgets/base",
            "_model_module_version": "1.2.0",
            "_model_name": "LayoutModel",
            "_view_count": null,
            "_view_module": "@jupyter-widgets/base",
            "_view_module_version": "1.2.0",
            "_view_name": "LayoutView",
            "align_content": null,
            "align_items": null,
            "align_self": null,
            "border": null,
            "bottom": null,
            "display": null,
            "flex": null,
            "flex_flow": null,
            "grid_area": null,
            "grid_auto_columns": null,
            "grid_auto_flow": null,
            "grid_auto_rows": null,
            "grid_column": null,
            "grid_gap": null,
            "grid_row": null,
            "grid_template_areas": null,
            "grid_template_columns": null,
            "grid_template_rows": null,
            "height": null,
            "justify_content": null,
            "justify_items": null,
            "left": null,
            "margin": null,
            "max_height": null,
            "max_width": null,
            "min_height": null,
            "min_width": null,
            "object_fit": null,
            "object_position": null,
            "order": null,
            "overflow": null,
            "overflow_x": null,
            "overflow_y": null,
            "padding": null,
            "right": null,
            "top": null,
            "visibility": null,
            "width": null
          }
        },
        "bf93129acd6d4aee857cdad9e42f8977": {
          "model_module": "@jupyter-widgets/controls",
          "model_name": "DescriptionStyleModel",
          "model_module_version": "1.5.0",
          "state": {
            "_model_module": "@jupyter-widgets/controls",
            "_model_module_version": "1.5.0",
            "_model_name": "DescriptionStyleModel",
            "_view_count": null,
            "_view_module": "@jupyter-widgets/base",
            "_view_module_version": "1.2.0",
            "_view_name": "StyleView",
            "description_width": ""
          }
        }
      }
    }
  },
  "nbformat": 4,
  "nbformat_minor": 0
}